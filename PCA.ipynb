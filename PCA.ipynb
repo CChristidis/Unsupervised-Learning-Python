{
 "cells": [
  {
   "cell_type": "code",
   "execution_count": 50,
   "metadata": {
    "scrolled": false
   },
   "outputs": [
    {
     "name": "stdout",
     "output_type": "stream",
     "text": [
      "[0]\n"
     ]
    }
   ],
   "source": [
    "# data manipulation modules\n",
    "import pandas as pd\n",
    "import numpy as np\n",
    "from numpy import linalg as LA\n",
    "from scipy import misc\n",
    "from sklearn.cluster import KMeans\n",
    "from scipy.spatial import distance\n",
    "\n",
    "from skimage import color\n",
    "from skimage import io\n",
    "\n",
    "\n",
    "# plot modules\n",
    "import matplotlib.pyplot as plt\n",
    "import seaborn as sns; sns.set()\n",
    "\n",
    "\n",
    "# metrics modules\n",
    "from sklearn.metrics import f1_score, accuracy_score\n",
    "\n",
    "# csv modules\n",
    "import csv\n",
    "\n",
    "# image manipulation modules\n",
    "from PIL import Image\n",
    "\n",
    "# path modules\n",
    "from pathlib import Path\n",
    "\n",
    "# system modules\n",
    "import os\n",
    "\n",
    "\n",
    "\"\"\" GLOBALS \"\"\"\n",
    "image_dir_path = 'Desktop/pca_script/'\n",
    "\n",
    "\n"
   ]
  },
  {
   "cell_type": "code",
   "execution_count": 51,
   "metadata": {},
   "outputs": [],
   "source": [
    "class PCA():\n",
    "    \n",
    "    def __init__(self, n_components):\n",
    "        self.n_components = n_components\n",
    "        self.principal_components = np.empty([n_components])\n",
    "        self.m = 0\n",
    "\n",
    "    \n",
    "    def fit(self, X):\n",
    "        # Fit the model with X.\n",
    "        self.m = np.mean(X, axis=0)\n",
    "        #lst = np.array([(X[i]- self.m) * np.vstack((X[i] - self.m)) for i in range(len(X))])\n",
    "        #cov_matrix = np.sum(np.stack(lst, axis=0), axis=0) / len(X)\n",
    "        cov_matrix = np.cov(X.T)\n",
    "\n",
    "        cov_matrix_eig = LA.eig(cov_matrix)\n",
    "        self.principal_components = np.array([cov_matrix_eig[1][:, i] for i in (cov_matrix_eig[0].argsort()[-self.n_components:][::-1])])\n",
    "        \n",
    "        \n",
    "    \n",
    "    def transform(self, X):\n",
    "        # Apply dimensionality reduction to X.\n",
    "        transformed_dataset = [np.dot(self.principal_components, X[i]) for i in range(len(X))]\n",
    "        return transformed_dataset\n",
    "\n",
    "    \n",
    "    "
   ]
  },
  {
   "cell_type": "code",
   "execution_count": 57,
   "metadata": {
    "scrolled": false
   },
   "outputs": [
    {
     "name": "stdout",
     "output_type": "stream",
     "text": [
      "[891.8235725763407, 945.7931377832997, 830.960681198491, 982.558309599667, 915.7406997238895, 885.8842928261652, 863.1240169770853, 892.3053140956005, 866.8868948636477, 909.3453804202587]\n"
     ]
    },
    {
     "data": {
      "text/plain": [
       "\"\\n# only using euclidean distance (before pca and k-means): 38.5 %\\nfor ind in range(450, 500):\\n    item = df.loc[ind]['img']\\n    distances = []\\n    for idx in df['id'].unique():\\n        sum = 0\\n        for i in df.loc[(df['id'] == idx)]['img']: \\n            sum += np.linalg.norm(item - i)\\n        distances.append(sum)\\n    print(np.argmin(distances))\\n\""
      ]
     },
     "execution_count": 57,
     "metadata": {},
     "output_type": "execute_result"
    }
   ],
   "source": [
    "\n",
    "def grayscale_and_convert_to_nparray(img_path: str):\n",
    "    \n",
    "    img = Image.open(img_path)\n",
    "    imgGray = img.convert('L')\n",
    "    imgGray.save('Desktop/test_gray.jpg')\n",
    "    gray_img = np.asarray(imgGray) / 255\n",
    "    return gray_img.flatten()\n",
    "\n",
    "\n",
    "def load_data_to_df(image_dir_path):\n",
    "    dataset_img_names = []\n",
    "\n",
    "    for dirpath, dirnames, filenames in os.walk(image_dir_path):\n",
    "        for directory in dirnames:\n",
    "            for img_name in list(os.listdir(image_dir_path + directory))[:50]:\n",
    "                img_path = image_dir_path + directory + \"/\" + img_name\n",
    "                dataset_img_names.append((directory, grayscale_and_convert_to_nparray(img_path)))\n",
    "                \n",
    "    df = pd.DataFrame.from_records(dataset_img_names, columns = ['id', 'img'])\n",
    "    return df\n",
    "\n",
    "       \n",
    "\n",
    "df = load_data_to_df(image_dir_path)\n",
    "X = df['img'].to_numpy()\n",
    "X = np.stack(X, axis=0)\n",
    "\n",
    "\n",
    "pca = PCA(n_components=100)\n",
    "pca.fit(X)\n",
    "trans = pca.transform(X)\n",
    "\n",
    "\n",
    "\n",
    "\"\"\"\n",
    "# only using euclidean distance (before pca and k-means): 38.5 %\n",
    "for ind in range(450, 500):\n",
    "    item = df.loc[ind]['img']\n",
    "    distances = []\n",
    "    for idx in df['id'].unique():\n",
    "        sum = 0\n",
    "        for i in df.loc[(df['id'] == idx)]['img']: \n",
    "            sum += np.linalg.norm(item - i)\n",
    "        distances.append(sum)\n",
    "    print(np.argmin(distances))\n",
    "\"\"\"\n",
    "\n",
    "\n",
    "\n",
    "\n",
    "\n"
   ]
  },
  {
   "cell_type": "code",
   "execution_count": null,
   "metadata": {},
   "outputs": [],
   "source": []
  },
  {
   "cell_type": "code",
   "execution_count": null,
   "metadata": {},
   "outputs": [],
   "source": []
  }
 ],
 "metadata": {
  "kernelspec": {
   "display_name": "Python 3",
   "language": "python",
   "name": "python3"
  },
  "language_info": {
   "codemirror_mode": {
    "name": "ipython",
    "version": 3
   },
   "file_extension": ".py",
   "mimetype": "text/x-python",
   "name": "python",
   "nbconvert_exporter": "python",
   "pygments_lexer": "ipython3",
   "version": "3.8.5"
  }
 },
 "nbformat": 4,
 "nbformat_minor": 4
}
